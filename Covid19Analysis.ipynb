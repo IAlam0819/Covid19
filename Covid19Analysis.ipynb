{
 "cells": [
  {
   "cell_type": "code",
   "execution_count": 3,
   "metadata": {},
   "outputs": [],
   "source": [
    "#importing libraries\n",
    "import os\n",
    "import pandas as pd\n",
    "import numpy as np\n",
    "import matplotlib.pyplot as plt\n",
    "import seaborn as sns\n",
    "from sklearn.model_selection import train_test_split\n",
    "from sklearn.linear_model import LogisticRegression\n",
    "from sklearn.metrics import accuracy_score,confusion_matrix\n",
    "from sklearn.neighbors import KNeighborsClassifier\n",
    "from sklearn.ensemble import RandomForestClassifier\n",
    "from sklearn.tree import DecisionTreeClassifier\n",
    "from sklearn.naive_bayes import GaussianNB"
   ]
  },
  {
   "cell_type": "code",
   "execution_count": 6,
   "metadata": {},
   "outputs": [
    {
     "data": {
      "text/html": [
       "<div>\n",
       "<style scoped>\n",
       "    .dataframe tbody tr th:only-of-type {\n",
       "        vertical-align: middle;\n",
       "    }\n",
       "\n",
       "    .dataframe tbody tr th {\n",
       "        vertical-align: top;\n",
       "    }\n",
       "\n",
       "    .dataframe thead th {\n",
       "        text-align: right;\n",
       "    }\n",
       "</style>\n",
       "<table border=\"1\" class=\"dataframe\">\n",
       "  <thead>\n",
       "    <tr style=\"text-align: right;\">\n",
       "      <th></th>\n",
       "      <th>Fever</th>\n",
       "      <th>BodyPain</th>\n",
       "      <th>Age</th>\n",
       "      <th>Runnynose</th>\n",
       "      <th>BreathingProblem</th>\n",
       "      <th>Infected</th>\n",
       "    </tr>\n",
       "  </thead>\n",
       "  <tbody>\n",
       "    <tr>\n",
       "      <th>0</th>\n",
       "      <td>99.329862</td>\n",
       "      <td>0</td>\n",
       "      <td>26</td>\n",
       "      <td>1</td>\n",
       "      <td>-1</td>\n",
       "      <td>0</td>\n",
       "    </tr>\n",
       "    <tr>\n",
       "      <th>1</th>\n",
       "      <td>98.115263</td>\n",
       "      <td>1</td>\n",
       "      <td>61</td>\n",
       "      <td>1</td>\n",
       "      <td>0</td>\n",
       "      <td>1</td>\n",
       "    </tr>\n",
       "    <tr>\n",
       "      <th>2</th>\n",
       "      <td>99.918088</td>\n",
       "      <td>1</td>\n",
       "      <td>13</td>\n",
       "      <td>0</td>\n",
       "      <td>-1</td>\n",
       "      <td>0</td>\n",
       "    </tr>\n",
       "    <tr>\n",
       "      <th>3</th>\n",
       "      <td>101.344456</td>\n",
       "      <td>1</td>\n",
       "      <td>55</td>\n",
       "      <td>1</td>\n",
       "      <td>0</td>\n",
       "      <td>1</td>\n",
       "    </tr>\n",
       "    <tr>\n",
       "      <th>4</th>\n",
       "      <td>100.056678</td>\n",
       "      <td>1</td>\n",
       "      <td>37</td>\n",
       "      <td>0</td>\n",
       "      <td>1</td>\n",
       "      <td>0</td>\n",
       "    </tr>\n",
       "  </tbody>\n",
       "</table>\n",
       "</div>"
      ],
      "text/plain": [
       "        Fever  BodyPain  Age  Runnynose  BreathingProblem  Infected\n",
       "0   99.329862         0   26          1                -1         0\n",
       "1   98.115263         1   61          1                 0         1\n",
       "2   99.918088         1   13          0                -1         0\n",
       "3  101.344456         1   55          1                 0         1\n",
       "4  100.056678         1   37          0                 1         0"
      ]
     },
     "execution_count": 6,
     "metadata": {},
     "output_type": "execute_result"
    }
   ],
   "source": [
    "#loading data\n",
    "data = pd.read_excel('covid_data.xlsx')\n",
    "data.head()"
   ]
  },
  {
   "cell_type": "code",
   "execution_count": 15,
   "metadata": {},
   "outputs": [
    {
     "name": "stdout",
     "output_type": "stream",
     "text": [
      "(1999, 6)\n"
     ]
    }
   ],
   "source": [
    "#shape of the data\n",
    "print(data.shape)"
   ]
  },
  {
   "cell_type": "code",
   "execution_count": 8,
   "metadata": {},
   "outputs": [
    {
     "data": {
      "text/html": [
       "<div>\n",
       "<style scoped>\n",
       "    .dataframe tbody tr th:only-of-type {\n",
       "        vertical-align: middle;\n",
       "    }\n",
       "\n",
       "    .dataframe tbody tr th {\n",
       "        vertical-align: top;\n",
       "    }\n",
       "\n",
       "    .dataframe thead th {\n",
       "        text-align: right;\n",
       "    }\n",
       "</style>\n",
       "<table border=\"1\" class=\"dataframe\">\n",
       "  <thead>\n",
       "    <tr style=\"text-align: right;\">\n",
       "      <th></th>\n",
       "      <th>Fever</th>\n",
       "      <th>BodyPain</th>\n",
       "      <th>Age</th>\n",
       "      <th>Runnynose</th>\n",
       "      <th>BreathingProblem</th>\n",
       "      <th>Infected</th>\n",
       "    </tr>\n",
       "  </thead>\n",
       "  <tbody>\n",
       "    <tr>\n",
       "      <th>0</th>\n",
       "      <td>99.33</td>\n",
       "      <td>0</td>\n",
       "      <td>26</td>\n",
       "      <td>1</td>\n",
       "      <td>-1</td>\n",
       "      <td>0</td>\n",
       "    </tr>\n",
       "    <tr>\n",
       "      <th>1</th>\n",
       "      <td>98.12</td>\n",
       "      <td>1</td>\n",
       "      <td>61</td>\n",
       "      <td>1</td>\n",
       "      <td>0</td>\n",
       "      <td>1</td>\n",
       "    </tr>\n",
       "    <tr>\n",
       "      <th>2</th>\n",
       "      <td>99.92</td>\n",
       "      <td>1</td>\n",
       "      <td>13</td>\n",
       "      <td>0</td>\n",
       "      <td>-1</td>\n",
       "      <td>0</td>\n",
       "    </tr>\n",
       "    <tr>\n",
       "      <th>3</th>\n",
       "      <td>101.34</td>\n",
       "      <td>1</td>\n",
       "      <td>55</td>\n",
       "      <td>1</td>\n",
       "      <td>0</td>\n",
       "      <td>1</td>\n",
       "    </tr>\n",
       "    <tr>\n",
       "      <th>4</th>\n",
       "      <td>100.06</td>\n",
       "      <td>1</td>\n",
       "      <td>37</td>\n",
       "      <td>0</td>\n",
       "      <td>1</td>\n",
       "      <td>0</td>\n",
       "    </tr>\n",
       "  </tbody>\n",
       "</table>\n",
       "</div>"
      ],
      "text/plain": [
       "    Fever  BodyPain  Age  Runnynose  BreathingProblem  Infected\n",
       "0   99.33         0   26          1                -1         0\n",
       "1   98.12         1   61          1                 0         1\n",
       "2   99.92         1   13          0                -1         0\n",
       "3  101.34         1   55          1                 0         1\n",
       "4  100.06         1   37          0                 1         0"
      ]
     },
     "execution_count": 8,
     "metadata": {},
     "output_type": "execute_result"
    }
   ],
   "source": [
    "#rounding off the  fever to 3 decimal place\n",
    "data['Fever'] = data['Fever'].round(2)\n",
    "data.head()"
   ]
  },
  {
   "cell_type": "code",
   "execution_count": 9,
   "metadata": {},
   "outputs": [
    {
     "name": "stdout",
     "output_type": "stream",
     "text": [
      "['Fever', 'BodyPain', 'Age', 'Runnynose', 'BreathingProblem', 'Infected']\n"
     ]
    }
   ],
   "source": [
    "#columns\n",
    "column_list=list(data.columns)\n",
    "print(column_list)"
   ]
  },
  {
   "cell_type": "code",
   "execution_count": 10,
   "metadata": {},
   "outputs": [
    {
     "name": "stdout",
     "output_type": "stream",
     "text": [
      "Fever               0\n",
      "BodyPain            0\n",
      "Age                 0\n",
      "Runnynose           0\n",
      "BreathingProblem    0\n",
      "Infected            0\n",
      "dtype: int64\n"
     ]
    }
   ],
   "source": [
    "#checking missing values\n",
    "print(data.isna().sum())"
   ]
  },
  {
   "cell_type": "code",
   "execution_count": 11,
   "metadata": {},
   "outputs": [
    {
     "data": {
      "text/plain": [
       "<matplotlib.axes._subplots.AxesSubplot at 0x7fe4d0f3fac8>"
      ]
     },
     "execution_count": 11,
     "metadata": {},
     "output_type": "execute_result"
    },
    {
     "data": {
      "image/png": "[encoded data removed]",
      "text/plain": [
       "<Figure size 720x360 with 2 Axes>"
      ]
     },
     "metadata": {
      "needs_background": "light"
     },
     "output_type": "display_data"
    }
   ],
   "source": [
    "#data correlation heatmap-visualization\n",
    "plt.figure(figsize=(10,5))\n",
    "sns.heatmap(data.corr(), cmap='coolwarm', annot=True, linewidth = 0.5)"
   ]
  },
  {
   "cell_type": "code",
   "execution_count": 12,
   "metadata": {},
   "outputs": [
    {
     "name": "stdout",
     "output_type": "stream",
     "text": [
      "['Runnynose', 'Age', 'BodyPain', 'Fever', 'BreathingProblem']\n"
     ]
    }
   ],
   "source": [
    "#features of the model\n",
    "features = list(set(column_list)-set(['Infected']))\n",
    "print(features)"
   ]
  },
  {
   "cell_type": "code",
   "execution_count": 13,
   "metadata": {},
   "outputs": [
    {
     "name": "stdout",
     "output_type": "stream",
     "text": [
      "[[  1.    26.     0.    99.33  -1.  ]\n",
      " [  1.    61.     1.    98.12   0.  ]\n",
      " [  0.    13.     1.    99.92  -1.  ]\n",
      " ...\n",
      " [  0.    76.     1.    99.8   -1.  ]\n",
      " [  1.    62.     1.    98.57  -1.  ]\n",
      " [  1.    14.     0.   101.24   0.  ]]\n",
      "[0 1 0 ... 1 1 0]\n"
     ]
    }
   ],
   "source": [
    "#features and target values\n",
    "x = data[features].values\n",
    "y = data['Infected'].values\n",
    "print(x)\n",
    "print(y)"
   ]
  },
  {
   "cell_type": "code",
   "execution_count": 16,
   "metadata": {},
   "outputs": [
    {
     "name": "stdout",
     "output_type": "stream",
     "text": [
      "shape of train data (1399, 5) (1399,)\n",
      "shape of test data (600, 5) (600,)\n"
     ]
    }
   ],
   "source": [
    "#train test split\n",
    "train_x,test_x,train_y,test_y = train_test_split(x,y,test_size=0.3,random_state=0)\n",
    "print('shape of train data',train_x.shape,train_y.shape)\n",
    "print('shape of test data',test_x.shape,test_y.shape)"
   ]
  },
  {
   "cell_type": "code",
   "execution_count": 18,
   "metadata": {},
   "outputs": [
    {
     "name": "stdout",
     "output_type": "stream",
     "text": [
      "accuracy of logistic regression model :  0.515\n"
     ]
    }
   ],
   "source": [
    "#Logistic regression model\n",
    "LR_model = LogisticRegression()\n",
    "LR_model.fit(train_x,train_y)\n",
    "LR_model.coef_\n",
    "LR_model.intercept_\n",
    "LR_predictions = LR_model.predict(test_x)\n",
    "LR_accuracy = accuracy_score(test_y,LR_predictions)\n",
    "print('accuracy of logistic regression model : ',LR_accuracy)"
   ]
  },
  {
   "cell_type": "code",
   "execution_count": 19,
   "metadata": {},
   "outputs": [
    {
     "name": "stdout",
     "output_type": "stream",
     "text": [
      "accuracy of kNN model :  0.5083333333333333\n"
     ]
    }
   ],
   "source": [
    "#kNN model\n",
    "kNN_model = KNeighborsClassifier(n_neighbors = 5)\n",
    "kNN_model.fit(train_x,train_y)\n",
    "kNN_predictions = kNN_model.predict(test_x)\n",
    "kNN_accuracy = accuracy_score(test_y,kNN_predictions)\n",
    "print('accuracy of kNN model : ',kNN_accuracy)"
   ]
  },
  {
   "cell_type": "code",
   "execution_count": 30,
   "metadata": {},
   "outputs": [
    {
     "name": "stdout",
     "output_type": "stream",
     "text": [
      "0.545\n"
     ]
    }
   ],
   "source": [
    "#Random forest model\n",
    "RF_model = RandomForestClassifier(n_estimators=500).fit(train_x,train_y)\n",
    "RF_predictions = RF_model.predict(test_x)\n",
    "RF_accuracy = accuracy_score(test_y,RF_predictions)\n",
    "print(RF_accuracy)"
   ]
  },
  {
   "cell_type": "code",
   "execution_count": 21,
   "metadata": {},
   "outputs": [
    {
     "name": "stdout",
     "output_type": "stream",
     "text": [
      "0.49666666666666665\n"
     ]
    }
   ],
   "source": [
    "#decison tree model\n",
    "DT_model = DecisionTreeClassifier(criterion='entropy').fit(train_x,train_y)\n",
    "DT_predictions = DT_model.predict(test_x)\n",
    "DT_accuracy = accuracy_score(test_y,DT_predictions)\n",
    "print(DT_accuracy)"
   ]
  },
  {
   "cell_type": "code",
   "execution_count": 22,
   "metadata": {},
   "outputs": [
    {
     "name": "stdout",
     "output_type": "stream",
     "text": [
      "0.49666666666666665\n"
     ]
    }
   ],
   "source": [
    "#naive bayes model\n",
    "NB_model = GaussianNB().fit(train_x,train_y)\n",
    "NB_predictions = NB_model.predict(test_x)\n",
    "NB_accuracy = accuracy_score(test_y,NB_predictions)\n",
    "print(NB_accuracy)"
   ]
  },
  {
   "cell_type": "code",
   "execution_count": 36,
   "metadata": {},
   "outputs": [
    {
     "name": "stdout",
     "output_type": "stream",
     "text": [
      "{'Logistic regression model': 0.515, 'kNN model': 0.5083333333333333, 'Random forest model': 0.545, 'decison tree model': 0.49666666666666665, 'naive bayes model': 0.49666666666666665}\n"
     ]
    }
   ],
   "source": [
    "#set of all models and their accuracy\n",
    "accuracy_dict = {\n",
    "    'Logistic regression model':LR_accuracy,\n",
    "    'kNN model':kNN_accuracy,\n",
    "    'Random forest model':RF_accuracy,\n",
    "    'decison tree model':DT_accuracy,\n",
    "    'naive bayes model':NB_accuracy\n",
    "    }\n",
    "print(accuracy_dict)"
   ]
  },
  {
   "cell_type": "code",
   "execution_count": 37,
   "metadata": {},
   "outputs": [
    {
     "name": "stdout",
     "output_type": "stream",
     "text": [
      "The model will maximum accuracy is Random forest model with accuracy = 0.545\n"
     ]
    }
   ],
   "source": [
    "#finding the model with maximum accuracy\n",
    "max_acc_model = max(accuracy_dict, key=accuracy_dict.get)\n",
    "max_acc = max(accuracy_dict.values())\n",
    "print('The model will maximum accuracy is {} with accuracy = {}'.format(max_acc_model,max_acc))"
   ]
  },
  {
   "cell_type": "code",
   "execution_count": null,
   "metadata": {},
   "outputs": [],
   "source": []
  }
 ],
 "metadata": {
  "kernelspec": {
   "display_name": "Python 3",
   "language": "python",
   "name": "python3"
  },
  "language_info": {
   "codemirror_mode": {
    "name": "ipython",
    "version": 3
   },
   "file_extension": ".py",
   "mimetype": "text/x-python",
   "name": "python",
   "nbconvert_exporter": "python",
   "pygments_lexer": "ipython3",
   "version": "3.7.3"
  }
 },
 "nbformat": 4,
 "nbformat_minor": 2
}
